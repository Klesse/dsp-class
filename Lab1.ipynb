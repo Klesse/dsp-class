{
  "cells": [
    {
      "cell_type": "markdown",
      "metadata": {
        "id": "265hL81wZa3A"
      },
      "source": [
        "# 1o Lab de PSD\n"
      ]
    },
    {
      "cell_type": "markdown",
      "metadata": {
        "id": "KifmsAJjZa3D"
      },
      "source": [
        "### Número do Grupo : 2\n"
      ]
    },
    {
      "cell_type": "code",
      "execution_count": null,
      "metadata": {
        "id": "Qo1d7izsodkp",
        "outputId": "3c4fd36b-d7ec-4754-e07a-b7419d8b3e9a",
        "colab": {
          "base_uri": "https://localhost:8080/"
        }
      },
      "outputs": [
        {
          "output_type": "stream",
          "name": "stdout",
          "text": [
            "Looking in indexes: https://pypi.org/simple, https://us-python.pkg.dev/colab-wheels/public/simple/\n",
            "Requirement already satisfied: scikit_dsp_comm in /usr/local/lib/python3.7/dist-packages (2.0.1)\n",
            "Requirement already satisfied: matplotlib in /usr/local/lib/python3.7/dist-packages (from scikit_dsp_comm) (3.2.2)\n",
            "Requirement already satisfied: numpy in /usr/local/lib/python3.7/dist-packages (from scikit_dsp_comm) (1.21.6)\n",
            "Requirement already satisfied: scipy in /usr/local/lib/python3.7/dist-packages (from scikit_dsp_comm) (1.4.1)\n",
            "Requirement already satisfied: cycler>=0.10 in /usr/local/lib/python3.7/dist-packages (from matplotlib->scikit_dsp_comm) (0.11.0)\n",
            "Requirement already satisfied: pyparsing!=2.0.4,!=2.1.2,!=2.1.6,>=2.0.1 in /usr/local/lib/python3.7/dist-packages (from matplotlib->scikit_dsp_comm) (3.0.9)\n",
            "Requirement already satisfied: python-dateutil>=2.1 in /usr/local/lib/python3.7/dist-packages (from matplotlib->scikit_dsp_comm) (2.8.2)\n",
            "Requirement already satisfied: kiwisolver>=1.0.1 in /usr/local/lib/python3.7/dist-packages (from matplotlib->scikit_dsp_comm) (1.4.3)\n",
            "Requirement already satisfied: typing-extensions in /usr/local/lib/python3.7/dist-packages (from kiwisolver>=1.0.1->matplotlib->scikit_dsp_comm) (4.1.1)\n",
            "Requirement already satisfied: six>=1.5 in /usr/local/lib/python3.7/dist-packages (from python-dateutil>=2.1->matplotlib->scikit_dsp_comm) (1.15.0)\n"
          ]
        }
      ],
      "source": [
        "pip install scikit_dsp_comm"
      ]
    },
    {
      "cell_type": "code",
      "execution_count": null,
      "metadata": {
        "id": "uzr8gDCtZa3E"
      },
      "outputs": [],
      "source": [
        "import sk_dsp_comm.sigsys as ss\n",
        "import numpy as np\n",
        "from matplotlib import pylab\n",
        "import matplotlib.pyplot as plt\n",
        "import sk_dsp_comm.sigsys as ssd\n",
        "from pylab import *\n",
        "import scipy.signal as signal\n",
        "from IPython.display import Audio, display\n",
        "from IPython.display import Image, SVG"
      ]
    },
    {
      "cell_type": "code",
      "execution_count": null,
      "metadata": {
        "id": "szKZ8F7HZa3F"
      },
      "outputs": [],
      "source": [
        "#pylab.rcParams['savefig.dpi'] = 100 # default 72\n",
        "#pylab.rcParams['figure.figsize'] = (6.0, 4.0) # default (6,4)\n",
        "#%config InlineBackend.figure_formats=['png'] # default for inline viewing\n",
        "#config InlineBackend.figure_formats=['svg'] # SVG inline viewing\n",
        "#%config InlineBackend.figure_formats=['pdf'] # render pdf figs for LaTeX"
      ]
    },
    {
      "cell_type": "markdown",
      "metadata": {
        "id": "oaGzUUNAZa3G"
      },
      "source": [
        "# PROBLEMA 1\n",
        "Usando as funções stem() e subplot() em python (https://matplotlib.org/stable), escreva um programa que plote os seguintes sinais\n",
        "$$\n",
        "\\begin{align}\n",
        "    x_1[n] &= \\sin\\big(\\frac{\\pi}{5}n\\big),\\ 0\\leq n \\leq 15 \\\\\n",
        "    x_2[n] &= \\cos\\big(\\frac{3\\pi}{5}n\\big),\\ 0\\leq n \\leq 15 \\\\\n",
        "\\end{align}\n",
        "$$\n",
        "\n",
        "**OBS:** Não esqueça de incluir os títulos dos eixos."
      ]
    },
    {
      "cell_type": "code",
      "execution_count": null,
      "metadata": {
        "colab": {
          "base_uri": "https://localhost:8080/",
          "height": 386
        },
        "id": "XqLNvSyAZa3H",
        "outputId": "e8581a5a-2f99-41ff-8738-e1e4b7604d71"
      },
      "outputs": [
        {
          "output_type": "stream",
          "name": "stderr",
          "text": [
            "/usr/local/lib/python3.7/dist-packages/ipykernel_launcher.py:8: UserWarning: In Matplotlib 3.3 individual lines on a stem plot will be added as a LineCollection instead of individual lines. This significantly improves the performance of a stem plot. To remove this warning and switch to the new behaviour, set the \"use_line_collection\" keyword argument to True.\n",
            "  \n",
            "/usr/local/lib/python3.7/dist-packages/ipykernel_launcher.py:15: UserWarning: In Matplotlib 3.3 individual lines on a stem plot will be added as a LineCollection instead of individual lines. This significantly improves the performance of a stem plot. To remove this warning and switch to the new behaviour, set the \"use_line_collection\" keyword argument to True.\n",
            "  from ipykernel import kernelapp as app\n"
          ]
        },
        {
          "output_type": "display_data",
          "data": {
            "text/plain": [
              "<Figure size 432x288 with 2 Axes>"
            ],
            "image/png": "[encoded data removed]"
          },
          "metadata": {
            "needs_background": "light"
          }
        }
      ],
      "source": [
        "#Intervalo de n\n",
        "n = np.arange(0,15+1)\n",
        "\n",
        "fig, (ax1, ax2) = plt.subplots(2, 1, sharey=True)\n",
        "\n",
        "#plot sin[(pi/5)*n]\n",
        "\n",
        "ax1.stem(n, sin((pi*n)/5))\n",
        "ax1.set_title(\"x1[n]\")\n",
        "ax1.set_xlabel(\"n\")\n",
        "ax1.set_ylabel(\"sin((pi/5)*n)\")\n",
        "\n",
        "#plot cos[(3*pi/5)*n]\n",
        "\n",
        "ax2.stem(n, cos((3*pi*n)/5))\n",
        "ax2.set_title(\"x2[n]\")\n",
        "ax2.set_xlabel(\"n\")\n",
        "ax2.set_ylabel(\"cos((3*pi/5)*n)\")\n",
        "\n",
        "fig.tight_layout()\n",
        "plt.show()\n"
      ]
    },
    {
      "cell_type": "markdown",
      "metadata": {
        "id": "jYIt7_RzZa3H"
      },
      "source": [
        "## Parte a - sinal $x_1[n]$\n",
        "O período da fundamental, $N$, é\n",
        "\n",
        "`adicione o resultado abaixo, explicando como ele foi determinado`"
      ]
    },
    {
      "cell_type": "code",
      "execution_count": null,
      "metadata": {
        "id": "MnAOLR8wZa3I"
      },
      "outputs": [],
      "source": [
        "# Por inspeção visual nota-se que o ciclo do sinal se repete a cada 10 segundos(período T=10s),\n",
        "# no caso do sinal x1[n] o primeiro ciclo começa no tempo t=0s, após isso são passadas duas\n",
        "# amplitudes(uma negativa e outra positiva) e a senóide volta a ser positiva no tempo t=10s,\n",
        "# revelando assim um ciclo do sinal (T = tf - t1 -> T = 10s - 0s -> T = 10s).\n"
      ]
    },
    {
      "cell_type": "markdown",
      "metadata": {
        "id": "uYgThgpQZa3J"
      },
      "source": [
        "## Parte b - sinal $x_2[n]$\n",
        "O período da fundamental, $N$, é\n",
        "\n",
        "`adicione o resultado abaixo, explicando como ele foi determinado`"
      ]
    },
    {
      "cell_type": "code",
      "execution_count": null,
      "metadata": {
        "id": "RkxFW3UqZa3J"
      },
      "outputs": [],
      "source": [
        "# Utilizando a fórmula N = (2*pi)*k/fa, em que: N = período do sinal que deve ser um natural,\n",
        "# k = menor número natural que força N ser natural, fa = frequência angular(obtida por inspeção na lei do sinal,\n",
        "# que no caso de x2[n] vale 3*pi/5). Aplicando os valores na fórmula:\n",
        "# N = (2*pi)*k/(3*pi/5) -> N = 10*k/3, com isso observa-se que k = 3, forçando o período N = 10s.\n"
      ]
    },
    {
      "cell_type": "markdown",
      "metadata": {
        "id": "-E-Ww_HeZa3K"
      },
      "source": [
        "# PROBLEMA 2\n",
        "Usando a função `stem()` escreva um programa que plote o sinal\n",
        "$$\n",
        "x[n] = \\begin{cases}\n",
        "        2n+1, & -3\\leq n\\leq 3 \\\\\n",
        "        0, & \\text{otherwise}\n",
        "        \\end{cases}\n",
        "$$\n",
        "no intervalo $-8\\leq n\\leq 8$.\n",
        "\n",
        "**OBS:** Criar a função $x[n]$ **sem o uso de loop!!** Observe ainda que o módulo python “sk_dsp_comm.sigsys” possui a função drect() que serve para criar uma função janela - estude o exemplo python ex2.py fornecido na aba “Material para realização dos exercícios”.\n",
        "\n",
        "**OBS:** Não esqueça de incluir os títulos dos eixos."
      ]
    },
    {
      "cell_type": "code",
      "execution_count": null,
      "metadata": {
        "colab": {
          "base_uri": "https://localhost:8080/",
          "height": 224
        },
        "id": "ewPmknfiZa3K",
        "outputId": "67fd5d2d-f125-4667-ab05-d7e1ef01e483"
      },
      "outputs": [
        {
          "name": "stderr",
          "output_type": "stream",
          "text": [
            "/usr/local/lib/python3.7/dist-packages/ipykernel_launcher.py:11: UserWarning: In Matplotlib 3.3 individual lines on a stem plot will be added as a LineCollection instead of individual lines. This significantly improves the performance of a stem plot. To remove this warning and switch to the new behaviour, set the \"use_line_collection\" keyword argument to True.\n",
            "  # This is added back by InteractiveShellApp.init_path()\n"
          ]
        },
        {
          "data": {
            "image/png": "[encoded data removed]",
            "text/plain": [
              "<Figure size 720x576 with 1 Axes>"
            ]
          },
          "metadata": {},
          "output_type": "display_data"
        }
      ],
      "source": [
        "#Intervalo de n\n",
        "n = np.arange (-8, 8+1)\n",
        "fig = plt.figure( figsize=(10,8))\n",
        "\n",
        "#Definição da função\n",
        "y1 = 2*n + 1\n",
        "y2 = y1* ssd.drect(n+3, N=6)\n",
        "sub1 = fig.add_subplot(411)\n",
        "sub1.set_ylabel(\"x[n]\")\n",
        "sub1.set_xlabel(\"n\")\n",
        "sub1.stem(n, y2)\n",
        "\n",
        "fig.tight_layout()\n",
        "plt.show()\n"
      ]
    },
    {
      "cell_type": "markdown",
      "metadata": {
        "id": "7xcIljn7Za3K"
      },
      "source": [
        "# PROBLEMA 3\n",
        "Usando a função `stem()` escreva um programa que plote o sinal\n",
        "$$\n",
        "    x[n] = u[n]u[8-n] + u[n-2]-u[n-5]\n",
        "$$\n",
        "no intervalo $-2\\leq n\\leq 16$.  Observe que o módulo  `sk_dsp_comm.sigsys`  (aliased  como  `ss`)  possui a função `dstep()` definida, a qual pode tornar esse problema bastante simples.\n",
        "\n",
        "**OBS:** Estude os exemplos ex1.py e ex2.py fornecidos na aba “Material para realização dos exercícios”."
      ]
    },
    {
      "cell_type": "code",
      "execution_count": null,
      "metadata": {
        "colab": {
          "base_uri": "https://localhost:8080/",
          "height": 224
        },
        "id": "74qWB2A1Za3L",
        "outputId": "c584c8ad-b4bf-4266-cc98-673532dbd8c1"
      },
      "outputs": [
        {
          "output_type": "stream",
          "name": "stderr",
          "text": [
            "/usr/local/lib/python3.7/dist-packages/ipykernel_launcher.py:8: UserWarning: In Matplotlib 3.3 individual lines on a stem plot will be added as a LineCollection instead of individual lines. This significantly improves the performance of a stem plot. To remove this warning and switch to the new behaviour, set the \"use_line_collection\" keyword argument to True.\n",
            "  \n"
          ]
        },
        {
          "output_type": "display_data",
          "data": {
            "text/plain": [
              "<Figure size 720x576 with 1 Axes>"
            ],
            "image/png": "[encoded data removed]"
          },
          "metadata": {
            "needs_background": "light"
          }
        }
      ],
      "source": [
        "#Intervalo de n\n",
        "n = np.arange(-2,16+1)\n",
        "fig  = plt.figure(figsize=(10,8))\n",
        "\n",
        "#Definição da x[n]\n",
        "y1 = ssd.dstep(n)*ssd.dstep(8-n) + ssd.dstep(n-2)-ssd.dstep(n-5)\n",
        "sub1 = fig.add_subplot(411)\n",
        "sub1.stem(n,y1)\n",
        "sub1.set_ylabel(\"x[n]\")\n",
        "sub1.set_xlabel(\"n\")\n",
        "\n",
        "fig.tight_layout()\n",
        "plt.show()\n",
        "\n",
        "\n"
      ]
    },
    {
      "cell_type": "markdown",
      "metadata": {
        "id": "VpkVRiOQZa3L"
      },
      "source": [
        "# PROBLEMA 4\n",
        "Considere o sinal\n",
        "$$\n",
        "    y[n] = \\begin{cases}\n",
        "        2, & n=0 \\\\\n",
        "        1, & n=1 \\\\\n",
        "        -1, & n=3 \\\\\n",
        "        3, & n=4 \\\\\n",
        "        0, & \\text{caso contrário}\n",
        "    \\end{cases}\n",
        "$$"
      ]
    },
    {
      "cell_type": "markdown",
      "metadata": {
        "id": "L4Q21tWLZa3L"
      },
      "source": [
        "Escreva uma função python ($y[n]$) que implemente a equação acima para que você possa responder as questões que seguem.\n",
        "\n",
        "**DICA:** Escreva o sinal $y[n]$ usando funções impulsos."
      ]
    },
    {
      "cell_type": "code",
      "execution_count": null,
      "metadata": {
        "id": "xG30jXTEZa3M"
      },
      "outputs": [],
      "source": [
        "def y(n):\n",
        "    \"\"\"\n",
        "    Use a função dimpulse do módulo sigsys para diretamente definir\n",
        "    o sinal y[n]\n",
        "    \"\"\"\n",
        "\n",
        "    y = 2*ssd.dimpulse(n)+1*ssd.dimpulse(n-1)+0*ssd.dimpulse(n-2)-1*ssd.dimpulse(n-3)+3*ssd.dimpulse(n-4)\n",
        "\n",
        "    return y"
      ]
    },
    {
      "cell_type": "markdown",
      "metadata": {
        "id": "PeJEDmY1Za3M"
      },
      "source": [
        "## Parte a\n",
        "Usando a função `stem()` plote $z_1[n] = y[n-2]$."
      ]
    },
    {
      "cell_type": "code",
      "execution_count": null,
      "metadata": {
        "colab": {
          "base_uri": "https://localhost:8080/",
          "height": 230
        },
        "id": "8CSj7Pf6Za3M",
        "outputId": "01550e7e-3eae-4ced-c9b1-385ca6cf5602"
      },
      "outputs": [
        {
          "name": "stderr",
          "output_type": "stream",
          "text": [
            "/usr/local/lib/python3.7/dist-packages/ipykernel_launcher.py:6: UserWarning: In Matplotlib 3.3 individual lines on a stem plot will be added as a LineCollection instead of individual lines. This significantly improves the performance of a stem plot. To remove this warning and switch to the new behaviour, set the \"use_line_collection\" keyword argument to True.\n",
            "  \n"
          ]
        },
        {
          "data": {
            "text/plain": [
              "<StemContainer object of 3 artists>"
            ]
          },
          "execution_count": 78,
          "metadata": {},
          "output_type": "execute_result"
        },
        {
          "data": {
            "image/png": "[encoded data removed]",
            "text/plain": [
              "<Figure size 720x576 with 1 Axes>"
            ]
          },
          "metadata": {},
          "output_type": "display_data"
        }
      ],
      "source": [
        "n = np.arange(0,4+1+2)\n",
        "fig = plt.figure(figsize=(10,8))\n",
        "\n",
        "sub1 = fig.add_subplot(411)\n",
        "sub1.set_title(\"z1[n]\")\n",
        "sub1.stem(n,y(n-2))"
      ]
    },
    {
      "cell_type": "markdown",
      "metadata": {
        "id": "pRrcoM6WZa3N"
      },
      "source": [
        "## Parte b\n",
        "Usando a função `stem()` plote $z_2[n] = y[n+2]$."
      ]
    },
    {
      "cell_type": "code",
      "execution_count": null,
      "metadata": {
        "colab": {
          "base_uri": "https://localhost:8080/",
          "height": 230
        },
        "id": "PtZCh4b4Za3N",
        "outputId": "71807602-f6b9-4307-d9e0-74f1066d2937"
      },
      "outputs": [
        {
          "name": "stderr",
          "output_type": "stream",
          "text": [
            "/usr/local/lib/python3.7/dist-packages/ipykernel_launcher.py:6: UserWarning: In Matplotlib 3.3 individual lines on a stem plot will be added as a LineCollection instead of individual lines. This significantly improves the performance of a stem plot. To remove this warning and switch to the new behaviour, set the \"use_line_collection\" keyword argument to True.\n",
            "  \n"
          ]
        },
        {
          "data": {
            "text/plain": [
              "<StemContainer object of 3 artists>"
            ]
          },
          "execution_count": 79,
          "metadata": {},
          "output_type": "execute_result"
        },
        {
          "data": {
            "image/png": "[encoded data removed]",
            "text/plain": [
              "<Figure size 720x576 with 1 Axes>"
            ]
          },
          "metadata": {},
          "output_type": "display_data"
        }
      ],
      "source": [
        "n = np.arange(0-2,4+1)\n",
        "fig = plt.figure(figsize=(10,8))\n",
        "\n",
        "sub2 = fig.add_subplot(411)\n",
        "sub2.set_title(\"z2[n]\")\n",
        "sub2.stem(n,y(n+2))"
      ]
    },
    {
      "cell_type": "markdown",
      "metadata": {
        "id": "ZXAN0G71Za3N"
      },
      "source": [
        "## Parte c\n",
        "Usando a função `stem()` plote $z_3[n] = y[-n]$."
      ]
    },
    {
      "cell_type": "code",
      "execution_count": null,
      "metadata": {
        "colab": {
          "base_uri": "https://localhost:8080/",
          "height": 230
        },
        "id": "BlMl6BxXZa3N",
        "outputId": "1687a07a-c173-4ecd-8380-5b1235c9c180"
      },
      "outputs": [
        {
          "name": "stderr",
          "output_type": "stream",
          "text": [
            "/usr/local/lib/python3.7/dist-packages/ipykernel_launcher.py:6: UserWarning: In Matplotlib 3.3 individual lines on a stem plot will be added as a LineCollection instead of individual lines. This significantly improves the performance of a stem plot. To remove this warning and switch to the new behaviour, set the \"use_line_collection\" keyword argument to True.\n",
            "  \n"
          ]
        },
        {
          "data": {
            "text/plain": [
              "<StemContainer object of 3 artists>"
            ]
          },
          "execution_count": 83,
          "metadata": {},
          "output_type": "execute_result"
        },
        {
          "data": {
            "image/png": "[encoded data removed]",
            "text/plain": [
              "<Figure size 720x576 with 1 Axes>"
            ]
          },
          "metadata": {},
          "output_type": "display_data"
        }
      ],
      "source": [
        "n = np.arange(-4,4+1)\n",
        "fig = plt.figure(figsize=(10,8))\n",
        "\n",
        "sub3 = fig.add_subplot(411)\n",
        "sub3.set_title(\"z3[n]\")\n",
        "sub3.stem(n,y(-n))"
      ]
    },
    {
      "cell_type": "markdown",
      "metadata": {
        "id": "rzbqfTbCZa3O"
      },
      "source": [
        "# PROBLEMA 5\n",
        "Dado os sinais abaixo:\n",
        "$$\n",
        "\\begin{align}\n",
        "    x_1[n] &= \\{1,2,-3,2,1,1\\} \\;\\;\\;\\; h_1[n] = \\{1,2,-3\\}\\\\\n",
        "    x_2[n] &= \\{0,0,0,0,1,1,1,1,0,0,0,0,-1,-1,-1,-1,0,0,0,0\\}$  \\;\\;\\;\\;  h_{2}[n]=\\{1,4,10,16,19,16,10,4,1\\}\n",
        "\\end{align}\n",
        "$$"
      ]
    },
    {
      "cell_type": "markdown",
      "metadata": {
        "id": "spF4RVF5Za3O"
      },
      "source": [
        "## Parte a\n",
        "Escrever uma função na linguagem python (__\"sem usar funções prontas de qualquer biblioteca\"__) que implemente a operação **Soma de Convolução** indicada abaixo para fazer a __convolução__ entre dois sinais unidimensionais.\n",
        "\n",
        "$ y[n] = \\sum_{k=-\\infty}^{\\infty} x[k]h[n-k] =  \\sum_{k=-\\infty}^{\\infty} x[n-k]h[k] $"
      ]
    },
    {
      "cell_type": "code",
      "execution_count": null,
      "metadata": {
        "id": "w4EmrHcDZa3O"
      },
      "outputs": [],
      "source": [
        "def conv(x,h):\n",
        "\n",
        "  tamanho = len(h)+len(x)-1\n",
        "  y = np.zeros(tamanho,int64)\n",
        "  for n in range(0, len(x)):\n",
        "    soma = 0\n",
        "    for k in range(0,len(h)):\n",
        "      y[n+k] += x[n]*h[k]\n",
        "\n",
        "  return y"
      ]
    },
    {
      "cell_type": "code",
      "source": [
        "def conv2(x,h):\n",
        "    y = np.zeros(len(x)+len(h)-1,np.int64)\n",
        "    xPad = np.pad(x,(0,(len(h)//2)*2))\n",
        "\n",
        "    for n in range(len(xPad)):\n",
        "      soma =0\n",
        "      for k in range(len(h)):\n",
        "        soma += xPad[n-k]*h[k]\n",
        "      y[n] = soma\n",
        "    return y\n"
      ],
      "metadata": {
        "id": "-yFVSY1IhsCu"
      },
      "execution_count": null,
      "outputs": []
    },
    {
      "cell_type": "markdown",
      "metadata": {
        "id": "2E4QJp-UZa3O"
      },
      "source": [
        "## Parte b\n",
        "Faça a convolução entre os sinais $x_1*h_1$ e $x_2*h_2$ e plote os sinais originais e os resultados usando as funções stem() e subplots."
      ]
    },
    {
      "cell_type": "code",
      "execution_count": null,
      "metadata": {
        "id": "c4Yd6_IqZa3O",
        "outputId": "d1d96cbf-1097-445f-b478-b189cf5a9af8",
        "colab": {
          "base_uri": "https://localhost:8080/"
        }
      },
      "outputs": [
        {
          "output_type": "stream",
          "name": "stdout",
          "text": [
            "[  1   4  -2 -10  14  -3  -1  -3]\n",
            "[  1   4  -2 -10  14  -3  -1  -3]\n",
            "[  0   0   0   0   1   5  15  31  49  61  61  49  30  10 -10 -30 -49 -61\n",
            " -61 -49 -31 -15  -5  -1   0   0   0   0]\n",
            "[  0   0   0   0   1   5  15  31  49  61  61  49  30  10 -10 -30 -49 -61\n",
            " -61 -49 -31 -15  -5  -1   0   0   0   0]\n"
          ]
        }
      ],
      "source": [
        "x1 = np.array([1,2,-3,2,1,1])\n",
        "x2 = np.array([0,0,0,0,1,1,1,1,0,0,0,0,-1,-1,-1,-1,0,0,0,0])\n",
        "h1 = np.array([1,2,-3])\n",
        "h2 = np.array([1,4,10,16,19,16,10,4,1])\n",
        "\n",
        "\"\"\"\n",
        "fig = plt.figure(figsize=(10,8))\n",
        "\n",
        "sub1 = fig.add_subplot(411)\n",
        "sub1.set_title(\"x1[n]*h1[n]\")\n",
        "sub1.stem(conv(x1,h1))\n",
        "\"\"\"\n",
        "\n",
        "print(conv(x1,h1))\n",
        "print(conv2(x1,h1))\n",
        "print(conv(x2,h2))\n",
        "print(conv2(x2,h2))\n",
        "\n"
      ]
    },
    {
      "cell_type": "markdown",
      "metadata": {
        "id": "-15SN5ZYZa3P"
      },
      "source": [
        "## Parte c\n",
        "De maneira similar à \"Parte b\" desse exercício, usando __o mesmo código da função convolução__, faça a __correlação__ entre os mesmos sinais e plote os resultados.\n",
        "\n",
        "Dica, lembre-se que:\n",
        "\n",
        "Convolução: $ y[n] = \\sum_{k=-\\infty}^{\\infty} x[k]h[n-k]$\n",
        "\n",
        "Correlação: $ y[n] = \\sum_{k=-\\infty}^{\\infty} x[k]h[n+k]$"
      ]
    },
    {
      "cell_type": "code",
      "execution_count": null,
      "metadata": {
        "id": "gnGDsfW2Za3P"
      },
      "outputs": [],
      "source": [
        "def corr(x,h):\n",
        "  return conv2(x,np.flip(h))\n",
        "\n",
        "print(corr(x1,h1))\n",
        "print(np.correlate(x1,h1, mode = \"full\"))"
      ]
    },
    {
      "cell_type": "markdown",
      "metadata": {
        "id": "ywQ3HUHpZa3P"
      },
      "source": [
        "## Parte d\n",
        "Utilize agora a função da biblioteca **numpy (numpy.convolve)** para realizar as mesmas convoluções da \"Parte a\". Use a função numpy.convolve - mode{‘full’} e discuta os resultados."
      ]
    },
    {
      "cell_type": "code",
      "execution_count": null,
      "metadata": {
        "colab": {
          "base_uri": "https://localhost:8080/",
          "height": 421
        },
        "id": "_emaNSXfZa3P",
        "outputId": "4f2613bd-1174-469f-ee6b-e8cbbb8f3739"
      },
      "outputs": [
        {
          "name": "stdout",
          "output_type": "stream",
          "text": [
            "[  1   4  -2 -10  14  -3  -1  -3]\n",
            "[  0   0   0   0   1   5  15  31  49  61  61  49  30  10 -10 -30 -49 -61\n",
            " -61 -49 -31 -15  -5  -1   0   0   0   0]\n"
          ]
        },
        {
          "name": "stderr",
          "output_type": "stream",
          "text": [
            "/usr/local/lib/python3.7/dist-packages/ipykernel_launcher.py:14: UserWarning: In Matplotlib 3.3 individual lines on a stem plot will be added as a LineCollection instead of individual lines. This significantly improves the performance of a stem plot. To remove this warning and switch to the new behaviour, set the \"use_line_collection\" keyword argument to True.\n",
            "  \n",
            "/usr/local/lib/python3.7/dist-packages/ipykernel_launcher.py:17: UserWarning: In Matplotlib 3.3 individual lines on a stem plot will be added as a LineCollection instead of individual lines. This significantly improves the performance of a stem plot. To remove this warning and switch to the new behaviour, set the \"use_line_collection\" keyword argument to True.\n"
          ]
        },
        {
          "data": {
            "image/png": "[encoded data removed]",
            "text/plain": [
              "<Figure size 432x288 with 2 Axes>"
            ]
          },
          "metadata": {},
          "output_type": "display_data"
        }
      ],
      "source": [
        "x1 = np.array([1,2,-3,2,1,1])\n",
        "x2 = np.array([0,0,0,0,1,1,1,1,0,0,0,0,-1,-1,-1,-1,0,0,0,0])\n",
        "h1 = np.array([1,2,-3])\n",
        "h2 = np.array([1,4,10,16,19,16,10,4,1])\n",
        "\n",
        "c1 = np.convolve(x1,h1,'full')\n",
        "c2 = np.convolve(x2,h2,'full')\n",
        "print(c1)\n",
        "print(c2)\n",
        "\n",
        "fig, (sub1,sub2) = plt.subplots(2, 1, sharey=True)\n",
        "\n",
        "sub1.set_title(\"x1[n]*h1[n]\")\n",
        "sub1.stem(c1)\n",
        "\n",
        "sub2.set_title(\"x2[n]*h2[n]\")\n",
        "sub2.stem(c2)\n",
        "\n",
        "fig.tight_layout()\n",
        "plt.show()\n"
      ]
    },
    {
      "cell_type": "code",
      "execution_count": null,
      "metadata": {
        "id": "PowhW_icZa3P"
      },
      "outputs": [],
      "source": [
        "# discussão dos resultados vai aqui"
      ]
    }
  ],
  "metadata": {
    "colab": {
      "provenance": []
    },
    "kernelspec": {
      "display_name": "Python 3 (ipykernel)",
      "language": "python",
      "name": "python3"
    },
    "language_info": {
      "codemirror_mode": {
        "name": "ipython",
        "version": 3
      },
      "file_extension": ".py",
      "mimetype": "text/x-python",
      "name": "python",
      "nbconvert_exporter": "python",
      "pygments_lexer": "ipython3",
      "version": "3.9.2"
    }
  },
  "nbformat": 4,
  "nbformat_minor": 0
}