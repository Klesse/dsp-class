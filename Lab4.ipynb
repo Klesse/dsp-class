{
  "cells": [
    {
      "cell_type": "markdown",
      "metadata": {
        "id": "HQN5qavViodG"
      },
      "source": [
        "# 4o Lab de PSD (notebook para preencher com os resultados)"
      ]
    },
    {
      "cell_type": "markdown",
      "metadata": {
        "id": "cgZSHUPFiodJ"
      },
      "source": [
        "### Número do Grupo : 2\n"
      ]
    },
    {
      "cell_type": "code",
      "execution_count": null,
      "metadata": {
        "id": "it0qbCH2iodK"
      },
      "outputs": [],
      "source": [
        "#\n",
        "# Primeiro vamos importar as bibliotecas necessárias\n",
        "#\n",
        "import numpy as np\n",
        "import matplotlib.pyplot as plt\n",
        "from scipy.signal import convolve, correlate\n",
        "from google.colab.patches import cv2_imshow"
      ]
    },
    {
      "cell_type": "markdown",
      "metadata": {
        "id": "9LSKhIYCiodL"
      },
      "source": [
        "## Definição do par de transformadas DFT - (direta e inversa)   \n",
        "\n",
        "O par de transformadas discretas de Fourier (Discrete Fourier Transform - DFT) para um sinal de tempo discreto $x[k]$ com índice das amostras igual $k$ e o correspondente espectro de Fourier $X[\\mu]$ com índice de frequências $\\mu$ é calculado como  \n",
        "\\begin{align}\n",
        "\\text{DFT}: Y[\\mu]=&\\sum_{k=0}^{N-1}x[k]\\cdot\\mathrm{e}^{-\\mathrm{j}\\frac{2\\pi}{N}k\\mu}\\\\\n",
        "\\text{IDFT}: x[k]=\\frac{1}{N}&\\sum_{\\mu=0}^{N-1}Y[\\mu]\\cdot\\mathrm{e}^{+\\mathrm{j}\\frac{2\\pi}{N}k\\mu}\n",
        "\\end{align}\n",
        "\n",
        "Observe o sinal negativo na função exponential da transformada direta (DFT) e o fator de normalização $1/N$ na transformada inversa (IDFT). Essa convensão é usada pela maioria dos livros textos de DSP e também pela biblioteca Python `numpy.fft.fft()`, `numpy.fft.ifft()` e funções do Matlab `fft()`, `ifft()`."
      ]
    },
    {
      "cell_type": "markdown",
      "metadata": {
        "id": "SrTfw8veiodM"
      },
      "source": [
        "# PROBLEMA 1"
      ]
    },
    {
      "cell_type": "markdown",
      "metadata": {
        "id": "aSLTm56OiodM"
      },
      "source": [
        "## DFT e IDFT com \"loops for\"\n",
        "\n",
        "Agora vamos implementar a DFT e a IDFT usando \"loops for\". Embora isso possa ser útil para entender e validar algoritmos em sua fase inicial de desenvolvimento, isso deve ser evitado para um código usado na prática: \"loops for\" normalmente são lentos e muitas vezes mais complicados de ler do que implementações usando matrizes e vetores. Especialmente para $N$ muito grandes, o tempo de computação é muito longo.\n",
        "\n",
        "De qualquer forma, o conceito de \"loop for\" é: a DFT pode ser implementada com um \"loop for\" externo iterando sobre $\\mu$ e um \"loop for\" interno somando todos os $k$ para um $\\mu$ específico.\n",
        "\n",
        "Usamos variável com subscrito _ aqui, a fim de salvar bons nomes de variáveis para o cálculo baseado em matriz."
      ]
    },
    {
      "cell_type": "markdown",
      "metadata": {
        "id": "2yjP2eVciodN"
      },
      "source": [
        "## Parte A\n",
        "\n",
        "Escreva as funções DFT e IDFT que calculam, respectivamente, as transformadas discretas de Fourier direta e inversa."
      ]
    },
    {
      "cell_type": "code",
      "execution_count": null,
      "metadata": {
        "id": "w8bKxRA-iodN"
      },
      "outputs": [],
      "source": [
        "#\n",
        "# Função para calcular a DFT (com loops for) de um sinal de valor complexo (dtype=complex)\n",
        "#\n",
        "# Entrada: x -> vetor contendo as amostras (números complexos) do sinal no tempo\n",
        "# Saída: Y -> vetor contendo os coeficientes espectrais (números complexos) - (dtype=complex)\n",
        "#\n",
        "def DFT_1D(x):\n",
        "    y = np.zeros(len(x), dtype=complex)\n",
        "    for u in range(len(x)):\n",
        "      soma = 0\n",
        "      for k in range(len(x)):\n",
        "        soma += x[k]*np.exp(np.complex(0,-1)*2*np.pi*k*u/len(x))\n",
        "      y[u] = soma\n",
        "    return y"
      ]
    },
    {
      "cell_type": "code",
      "execution_count": null,
      "metadata": {
        "id": "OEQMGlPziodO"
      },
      "outputs": [],
      "source": [
        "#\n",
        "# Função para calcular a IDFT (com loops for) de um sinal de valor complexo (dtype=complex)\n",
        "#\n",
        "# Entrada: Y -> vetor contendo os coeficientes espectrais (números complexos)\n",
        "# Saída: x -> vetor contendo as amostras (números complexos) do sinal no tempo\n",
        "#\n",
        "def IDFT_1D(Y):\n",
        "    x = np.zeros(len(Y), dtype=complex)\n",
        "    for k in range(len(Y)):\n",
        "      soma = 0\n",
        "      for u in range(len(Y)):\n",
        "        soma += Y[u]*np.exp(np.complex(0,1)*2*np.pi*k*u/len(Y))\n",
        "      x[k] = soma\n",
        "    x[k] = x[k]/len(Y)\n",
        "\n",
        "    return x"
      ]
    },
    {
      "cell_type": "markdown",
      "metadata": {
        "id": "OGUpgWAYiodP"
      },
      "source": [
        "## Parte B\n",
        "\n",
        "Estude o código abaixo que cria uma sinal discreto composto pela soma de três ondas senoides com amplitude e frequências distintas."
      ]
    },
    {
      "cell_type": "code",
      "execution_count": null,
      "metadata": {
        "colab": {
          "base_uri": "https://localhost:8080/",
          "height": 411
        },
        "id": "PeMNsibhiodP",
        "outputId": "d8adb643-5481-4e5a-bbde-5b5fc28ac2cc"
      },
      "outputs": [
        {
          "output_type": "stream",
          "name": "stderr",
          "text": [
            "/usr/local/lib/python3.7/dist-packages/ipykernel_launcher.py:18: UserWarning: In Matplotlib 3.3 individual lines on a stem plot will be added as a LineCollection instead of individual lines. This significantly improves the performance of a stem plot. To remove this warning and switch to the new behaviour, set the \"use_line_collection\" keyword argument to True.\n"
          ]
        },
        {
          "output_type": "display_data",
          "data": {
            "text/plain": [
              "<Figure size 576x432 with 1 Axes>"
            ],
            "image/png": "[encoded data removed]"
          },
          "metadata": {
            "needs_background": "light"
          }
        }
      ],
      "source": [
        "# taxa de amostragem (sampling rate)\n",
        "sr = 100\n",
        "\n",
        "# intervalo de amostragem\n",
        "ts = 1.0/sr\n",
        "t = np.arange(0,1,ts)\n",
        "\n",
        "freq = 1.\n",
        "x = 3*np.sin(2*np.pi*freq*t)\n",
        "\n",
        "freq = 4\n",
        "x += np.sin(2*np.pi*freq*t)\n",
        "\n",
        "freq = 7\n",
        "x += 0.5*np.sin(2*np.pi*freq*t)\n",
        "\n",
        "plt.figure(figsize = (8, 6))\n",
        "plt.stem(t, x, linefmt='red')\n",
        "plt.ylabel('Amplitude')\n",
        "\n",
        "plt.show()"
      ]
    },
    {
      "cell_type": "markdown",
      "metadata": {
        "id": "6niGwQLFiodQ"
      },
      "source": [
        "## Parte C\n",
        "\n",
        "Escreva um código que utilize a função DFT criada anteriormente para calcular e plotar o espectro de frequências (abs(Y)) do sinal $x$ criado acima.\n",
        "\n",
        "**OBS**: Observe que a DFT codificada recebe como entrada um sinal complexo e o sinal acima é do tipo real. Portanto, transforme o sinal $x$ em uma sequência complexa com a parte imaginária igual a zero."
      ]
    },
    {
      "cell_type": "code",
      "execution_count": null,
      "metadata": {
        "colab": {
          "base_uri": "https://localhost:8080/",
          "height": 477
        },
        "id": "9L8k8C-ViodQ",
        "outputId": "14b62e6e-94ea-4c06-f435-07b18872aec0"
      },
      "outputs": [
        {
          "output_type": "stream",
          "name": "stderr",
          "text": [
            "/usr/local/lib/python3.7/dist-packages/ipykernel_launcher.py:12: DeprecationWarning: `np.complex` is a deprecated alias for the builtin `complex`. To silence this warning, use `complex` by itself. Doing this will not modify any behavior and is safe. If you specifically wanted the numpy scalar type, use `np.complex128` here.\n",
            "Deprecated in NumPy 1.20; for more details and guidance: https://numpy.org/devdocs/release/1.20.0-notes.html#deprecations\n",
            "  if sys.path[0] == '':\n",
            "/usr/local/lib/python3.7/dist-packages/ipykernel_launcher.py:24: UserWarning: In Matplotlib 3.3 individual lines on a stem plot will be added as a LineCollection instead of individual lines. This significantly improves the performance of a stem plot. To remove this warning and switch to the new behaviour, set the \"use_line_collection\" keyword argument to True.\n"
          ]
        },
        {
          "output_type": "display_data",
          "data": {
            "text/plain": [
              "<Figure size 576x432 with 1 Axes>"
            ],
            "image/png": "[encoded data removed]"
          },
          "metadata": {
            "needs_background": "light"
          }
        }
      ],
      "source": [
        "# tamanho do vetor\n",
        "N = len(x)\n",
        "\n",
        "# cria um vetor de números complexos\n",
        "x = x.astype(dtype=complex)\n",
        "\n",
        "# shift para centralizar os espectros de frequência\n",
        "_x = np.zeros(len(x),dtype=complex)\n",
        "\n",
        "for n in range(len(x)):\n",
        "  _x[n] = x[n]*(-1)**(n)\n",
        "\n",
        "\n",
        "# chamada à função DFT\n",
        "Y = DFT_1D(x)\n",
        "\n",
        "\n",
        "# calcula a frequência\n",
        "n = np.arange(N)\n",
        "T = N/sr\n",
        "freq = n/T\n",
        "\n",
        "plt.figure(figsize = (8, 6))\n",
        "plt.stem(freq, abs(Y), linefmt='blue', markerfmt=\" \", basefmt=\"-b\")\n",
        "plt.xlabel('Freq (Hz)')\n",
        "plt.ylabel('Amplitude da DFT |X(freq)|')\n",
        "plt.show()"
      ]
    },
    {
      "cell_type": "markdown",
      "metadata": {
        "id": "9RU-Q4tIiodR"
      },
      "source": [
        "No gráfico acima é possível notar que a saída da DFT é simétrica na metade da taxa de amostragem (você pode tentar uma taxa de amostragem diferente para testar).\n",
        "\n",
        "Essa metade da taxa de amostragem é chamada de **frequência de Nyquist**, em homenagem ao engenheiro eletrônico **Harry Nyquist**. Harry Nyquist e Claude Shannon criaram o famoso teorema de amostragem de **Nyquist-Shannon**, que afirma que um sinal amostrado a uma taxa $f_s$ pode ser totalmente reconstruído se contiver apenas componentes de frequência abaixo da metade dessa frequência de amostragem, ou seja, a taxa de amostragem deve ser maior que duas vezes a máxima frequência do sinal, $f_s > f_{max}$."
      ]
    },
    {
      "cell_type": "code",
      "execution_count": null,
      "metadata": {
        "colab": {
          "base_uri": "https://localhost:8080/",
          "height": 530
        },
        "id": "MAE3JqOZiodR",
        "outputId": "70a3248f-50ef-4e87-d7e2-e70dfb05709f"
      },
      "outputs": [
        {
          "output_type": "stream",
          "name": "stderr",
          "text": [
            "/usr/local/lib/python3.7/dist-packages/ipykernel_launcher.py:11: UserWarning: In Matplotlib 3.3 individual lines on a stem plot will be added as a LineCollection instead of individual lines. This significantly improves the performance of a stem plot. To remove this warning and switch to the new behaviour, set the \"use_line_collection\" keyword argument to True.\n",
            "  # This is added back by InteractiveShellApp.init_path()\n",
            "/usr/local/lib/python3.7/dist-packages/ipykernel_launcher.py:16: UserWarning: In Matplotlib 3.3 individual lines on a stem plot will be added as a LineCollection instead of individual lines. This significantly improves the performance of a stem plot. To remove this warning and switch to the new behaviour, set the \"use_line_collection\" keyword argument to True.\n",
            "  app.launch_new_instance()\n"
          ]
        },
        {
          "output_type": "display_data",
          "data": {
            "text/plain": [
              "<Figure size 864x432 with 2 Axes>"
            ],
            "image/png": "[encoded data removed]"
          },
          "metadata": {
            "needs_background": "light"
          }
        }
      ],
      "source": [
        "n_oneside = N//2\n",
        "\n",
        "# obtem as frequências de um lado\n",
        "f_oneside = freq[:n_oneside]\n",
        "\n",
        "# normaliza a amplitude do sinal\n",
        "Y_oneside =Y[:n_oneside]/n_oneside\n",
        "\n",
        "plt.figure(figsize = (12, 6))\n",
        "plt.subplot(121)\n",
        "plt.stem(f_oneside, abs(Y_oneside), linefmt='blue', markerfmt=\" \", basefmt=\"-b\")\n",
        "plt.xlabel('Freq (Hz)')\n",
        "plt.ylabel('Amplitude da DFT |X(freq)|')\n",
        "\n",
        "plt.subplot(122)\n",
        "plt.stem(f_oneside, abs(Y_oneside), linefmt='blue', markerfmt=\" \", basefmt=\"-b\")\n",
        "plt.xlabel('Freq (Hz)')\n",
        "# Limita o eixo x até frequência de 10 Hz\n",
        "plt.xlim(0, 10)\n",
        "\n",
        "plt.tight_layout()\n",
        "plt.show()"
      ]
    },
    {
      "cell_type": "markdown",
      "metadata": {
        "id": "8kIZwgLYiodR"
      },
      "source": [
        "## Limitações da DFT implementada\n",
        "\n",
        "O principal problema com a implementação da DFT acima é que ela não é eficiente se tivermos um sinal com muitas amostras. Nesse caso, o cálculo da DFT pode levar muito tempo."
      ]
    },
    {
      "cell_type": "markdown",
      "metadata": {
        "id": "1dsSEK0ciodR"
      },
      "source": [
        "## Parte D\n",
        "\n",
        "Escreva uma função em python que implemente o sinal indicado abaixo.\n",
        "\n",
        "\\begin{equation}\n",
        "f(t) = 3sin(2\\pi f t),\n",
        "\\end{equation}\n",
        "\n",
        "sendo $f=2$ Hz"
      ]
    },
    {
      "cell_type": "code",
      "execution_count": null,
      "metadata": {
        "id": "tbWLcz7OiodS"
      },
      "outputs": [],
      "source": [
        "#\n",
        "# sr = taxa de amostragem\n",
        "#\n",
        "def sinal(sr):\n",
        "    '''\n",
        "    função para gerar um sinal 1D simples com diferentes taxas de amostragem\n",
        "    '''\n",
        "    ts = 1.0/sr\n",
        "    t = np.arange(0,1,ts)\n",
        "\n",
        "    freq = 2.\n",
        "\n",
        "    # taxa de amostragem (sampling rate)\n",
        "    x = 3*np.sin(2*np.pi*freq*t)\n",
        "\n",
        "    return x"
      ]
    },
    {
      "cell_type": "markdown",
      "metadata": {
        "id": "LeagyqUZiodS"
      },
      "source": [
        "## Parte E\n",
        "\n",
        "Escreva um simples programa em python que varia a taxa de amostragem (sr) do sinal acima de 500 e 1000, com passo de 100 e, para cada uma das taxas, determine a DFT do sinal gerado e imprima o tempo de de execução.\n",
        "\n",
        "**OBS** Use o código abaixo como exemplo de como medir o tempo de execução\n",
        "\n",
        "import time\n",
        "start_time = time.time()\n",
        "main()\n",
        "print(\"--- %s seconds ---\" % (time.time() - start_time))"
      ]
    },
    {
      "cell_type": "code",
      "execution_count": null,
      "metadata": {
        "id": "qM_ITWnDiodS",
        "colab": {
          "base_uri": "https://localhost:8080/"
        },
        "outputId": "6138709e-ce83-46d4-d0e8-15fcf8608cbf"
      },
      "outputs": [
        {
          "output_type": "stream",
          "name": "stderr",
          "text": [
            "/usr/local/lib/python3.7/dist-packages/ipykernel_launcher.py:12: DeprecationWarning: `np.complex` is a deprecated alias for the builtin `complex`. To silence this warning, use `complex` by itself. Doing this will not modify any behavior and is safe. If you specifically wanted the numpy scalar type, use `np.complex128` here.\n",
            "Deprecated in NumPy 1.20; for more details and guidance: https://numpy.org/devdocs/release/1.20.0-notes.html#deprecations\n",
            "  if sys.path[0] == '':\n"
          ]
        },
        {
          "output_type": "stream",
          "name": "stdout",
          "text": [
            "--- 3.0994415283203125e-06 seconds ---\n",
            "--- 3.337860107421875e-06 seconds ---\n",
            "--- 3.337860107421875e-06 seconds ---\n",
            "--- 3.337860107421875e-06 seconds ---\n",
            "--- 4.0531158447265625e-06 seconds ---\n"
          ]
        }
      ],
      "source": [
        "import time\n",
        "\n",
        "start = 500\n",
        "stop  = 1000\n",
        "step  = 100\n",
        "\n",
        "for i in range(start,stop,step):\n",
        "  DFT_1D(sinal(i))\n",
        "  start_time = time.time()\n",
        "  print(\"--- %s seconds ---\" % (time.time() - start_time))"
      ]
    },
    {
      "cell_type": "markdown",
      "metadata": {
        "id": "N28pYaQ6iodT"
      },
      "source": [
        "## Parte F\n",
        "\n",
        "Agora, utilize a função IDFt para obter e plotar o sinal original $x$ criado na \"parte A\" a partir do seu espetro $Y$ obtido na \"parte C\"\n",
        "\n",
        "**OBS**: Observe que a IDFT codificada recebe como entrada um sinal complexo e retorna um sinal complexo. Portanto, para obter o sinal $x$ criado na \"parte A\", você precisa utilizar apenas a parte real do sinal de retorno."
      ]
    },
    {
      "cell_type": "code",
      "execution_count": null,
      "metadata": {
        "id": "09ERq9DsiodT",
        "colab": {
          "base_uri": "https://localhost:8080/",
          "height": 495
        },
        "outputId": "3437f0f1-f81b-4cab-ba68-374203a998d4"
      },
      "outputs": [
        {
          "output_type": "stream",
          "name": "stderr",
          "text": [
            "/usr/local/lib/python3.7/dist-packages/ipykernel_launcher.py:12: DeprecationWarning: `np.complex` is a deprecated alias for the builtin `complex`. To silence this warning, use `complex` by itself. Doing this will not modify any behavior and is safe. If you specifically wanted the numpy scalar type, use `np.complex128` here.\n",
            "Deprecated in NumPy 1.20; for more details and guidance: https://numpy.org/devdocs/release/1.20.0-notes.html#deprecations\n",
            "  if sys.path[0] == '':\n",
            "/usr/local/lib/python3.7/dist-packages/ipykernel_launcher.py:4: UserWarning: In Matplotlib 3.3 individual lines on a stem plot will be added as a LineCollection instead of individual lines. This significantly improves the performance of a stem plot. To remove this warning and switch to the new behaviour, set the \"use_line_collection\" keyword argument to True.\n",
            "  after removing the cwd from sys.path.\n"
          ]
        },
        {
          "output_type": "display_data",
          "data": {
            "text/plain": [
              "<Figure size 576x432 with 1 Axes>"
            ],
            "image/png": "[encoded data removed]"
          },
          "metadata": {
            "needs_background": "light"
          }
        }
      ],
      "source": [
        "_Y = IDFT_1D(Y)\n",
        "\n",
        "plt.figure(figsize = (8, 6))\n",
        "plt.stem(freq, np.real(_Y), linefmt='blue', markerfmt=\" \", basefmt=\"-b\")\n",
        "plt.xlabel('Freq (Hz)')\n",
        "plt.ylabel('Amplitude da IDFT |X(freq)|')\n",
        "plt.show()"
      ]
    },
    {
      "cell_type": "markdown",
      "metadata": {
        "id": "EDCbSQGSiodT"
      },
      "source": [
        "# PROBLEMA 2"
      ]
    },
    {
      "cell_type": "markdown",
      "metadata": {
        "id": "UzG2XvkaiodT"
      },
      "source": [
        "## Parte A\n",
        "\n",
        "Estenda para sinais 2D (imagens) os códigos da DFT e IDFT implementados anteriormente para sinais 1D\n",
        "\n",
        "**DICA**: Use do fato que a 2D-DFT pode ser escrita a partir da 1D-DFT, como indicado abaixo\n",
        "\n",
        "\n",
        "\\begin{equation}\n",
        "F(u,v) = \\frac{1}{MN} \\sum_{x=0}^{N-1} \\sum_{y=0}^{M-1} f(x,y) e^{-j 2\\pi \\left( \\frac{ux}{N} + \\frac{vy}{M} \\right)} = \\frac{1}{M} \\sum_{y=0}^{M-1} \\left[ \\frac{1}{N} \\sum_{x=0}^{N-1} f(x,y) e^{-j 2\\pi \\frac{ux}{N}} \\right] e^{-j 2\\pi \\frac{vy}{M}}\n",
        "\\end{equation}"
      ]
    },
    {
      "cell_type": "code",
      "execution_count": null,
      "metadata": {
        "id": "blRbWR5-iodU"
      },
      "outputs": [],
      "source": [
        "#\n",
        "# Função para calcular a DFT (com loops for) de um sinal de valor complexo (dtype=complex)\n",
        "#\n",
        "# Entrada: x -> vetor contendo as amostras (números complexos) do sinal no tempo\n",
        "# Saída: Y -> vetor contendo os coeficientes espectrais (números complexos) - (dtype=complex)\n",
        "#\n",
        "def DFT_2D_1(x):\n",
        "    x_rows, x_cols = x.shape\n",
        "    Y = np.zeros((x_rows,x_cols))\n",
        "    for a in range(x_rows):\n",
        "      for b in range(x_cols):\n",
        "        aux = 0\n",
        "        for u in range(x_rows):\n",
        "          for v in range(x_cols):\n",
        "            aux += x[a,b]*np.exp(np.complex(0,-1)*2*np.pi*((u*a/x_rows)+(b*v/x_cols)))\n",
        "        Y[a,b] = aux\n",
        "    Y[a,b] *= 1/(x_rows*x_cols)\n",
        "    return Y\n",
        "\n",
        "def DFT_2D_2(x):\n",
        "   rows, cols = x.shape\n",
        "   Y = x\n",
        "   for col in range(rows):\n",
        "      for row in range(cols):\n",
        "        Y[row][col] = DFT_1D(x[row])\n",
        "   Y = Y.transpose\n",
        "   for col in range(rows):\n",
        "      for row in range(cols):\n",
        "        Y[row][col] = DFT_1D(Y)\n",
        "\n",
        "   return Y"
      ]
    },
    {
      "cell_type": "code",
      "execution_count": null,
      "metadata": {
        "id": "jYDSfDMJiodU",
        "colab": {
          "base_uri": "https://localhost:8080/",
          "height": 130
        },
        "outputId": "48d1910a-d10e-4fda-e646-f77527d5081b"
      },
      "outputs": [
        {
          "output_type": "error",
          "ename": "SyntaxError",
          "evalue": "ignored",
          "traceback": [
            "\u001b[0;36m  File \u001b[0;32m\"<ipython-input-18-aca022bc9ebf>\"\u001b[0;36m, line \u001b[0;32m9\u001b[0m\n\u001b[0;31m    -> INSIRA SEU CÓDIGO AQUI !!\u001b[0m\n\u001b[0m     ^\u001b[0m\n\u001b[0;31mSyntaxError\u001b[0m\u001b[0;31m:\u001b[0m invalid syntax\n"
          ]
        }
      ],
      "source": [
        "#\n",
        "# Função para calcular a IDFT (com loops for) de um sinal de valor complexo (dtype=complex)\n",
        "#\n",
        "# Entrada: Y -> vetor contendo os coeficientes espectrais (números complexos)\n",
        "# Saída: x -> vetor contendo as amostras (números complexos) do sinal no tempo\n",
        "#\n",
        "def IDFT_2D(Y):\n",
        "\n",
        "    -> INSIRA SEU CÓDIGO AQUI !!\n",
        "\n",
        "    return x"
      ]
    },
    {
      "cell_type": "markdown",
      "metadata": {
        "id": "gu3lrilYiodU"
      },
      "source": [
        "## Parte B\n",
        "\n",
        "Escreva um código simples que leia a imagem fornecida para essa prática, calcule a sua DFT e plote o espectro de Fourier.\n",
        "\n",
        "**OBS**: Use a função do opencv para a leitura e visualização da imagem e do seu espetro.\n",
        "\n",
        "**DICA de USO - Leitura e Escrita de uma imagem**\n",
        "\n",
        "im_gray = cv2.imread('Nome_da_Imagem', cv2.IMREAD_GRAYSCALE)\n",
        "\n",
        "cv2.imwrite('Nome_da_Imagem', im_gray)"
      ]
    },
    {
      "cell_type": "code",
      "execution_count": null,
      "metadata": {
        "id": "qLt1J7VbiodU",
        "colab": {
          "base_uri": "https://localhost:8080/",
          "height": 515
        },
        "outputId": "17bf6eae-47f9-4441-a106-19537bc81327"
      },
      "outputs": [
        {
          "output_type": "stream",
          "name": "stderr",
          "text": [
            "/usr/local/lib/python3.7/dist-packages/ipykernel_launcher.py:12: DeprecationWarning: `np.complex` is a deprecated alias for the builtin `complex`. To silence this warning, use `complex` by itself. Doing this will not modify any behavior and is safe. If you specifically wanted the numpy scalar type, use `np.complex128` here.\n",
            "Deprecated in NumPy 1.20; for more details and guidance: https://numpy.org/devdocs/release/1.20.0-notes.html#deprecations\n",
            "  if sys.path[0] == '':\n"
          ]
        },
        {
          "output_type": "error",
          "ename": "ValueError",
          "evalue": "ignored",
          "traceback": [
            "\u001b[0;31m---------------------------------------------------------------------------\u001b[0m",
            "\u001b[0;31mTypeError\u001b[0m                                 Traceback (most recent call last)",
            "\u001b[0;31mTypeError\u001b[0m: only size-1 arrays can be converted to Python scalars",
            "\nThe above exception was the direct cause of the following exception:\n",
            "\u001b[0;31mValueError\u001b[0m                                Traceback (most recent call last)",
            "\u001b[0;32m<ipython-input-26-e92627da8b6b>\u001b[0m in \u001b[0;36m<module>\u001b[0;34m()\u001b[0m\n\u001b[1;32m      3\u001b[0m \u001b[0;34m\u001b[0m\u001b[0m\n\u001b[1;32m      4\u001b[0m \u001b[0mim_gray\u001b[0m \u001b[0;34m=\u001b[0m \u001b[0mcv2\u001b[0m\u001b[0;34m.\u001b[0m\u001b[0mimread\u001b[0m\u001b[0;34m(\u001b[0m\u001b[0;34m'/content/cameraman.tiff'\u001b[0m\u001b[0;34m,\u001b[0m \u001b[0mcv2\u001b[0m\u001b[0;34m.\u001b[0m\u001b[0mIMREAD_GRAYSCALE\u001b[0m\u001b[0;34m)\u001b[0m\u001b[0;34m\u001b[0m\u001b[0;34m\u001b[0m\u001b[0m\n\u001b[0;32m----> 5\u001b[0;31m \u001b[0mim_gray\u001b[0m \u001b[0;34m=\u001b[0m \u001b[0mDFT_2D_2\u001b[0m\u001b[0;34m(\u001b[0m\u001b[0mim_gray\u001b[0m\u001b[0;34m)\u001b[0m\u001b[0;34m\u001b[0m\u001b[0;34m\u001b[0m\u001b[0m\n\u001b[0m\u001b[1;32m      6\u001b[0m \u001b[0mcv2\u001b[0m\u001b[0;34m.\u001b[0m\u001b[0mimwrite\u001b[0m\u001b[0;34m(\u001b[0m\u001b[0;34m'/content/cameraman.tiff'\u001b[0m\u001b[0;34m,\u001b[0m \u001b[0mim_gray\u001b[0m\u001b[0;34m)\u001b[0m\u001b[0;34m\u001b[0m\u001b[0;34m\u001b[0m\u001b[0m\n\u001b[1;32m      7\u001b[0m \u001b[0;34m\u001b[0m\u001b[0m\n",
            "\u001b[0;32m<ipython-input-25-14addc41a5c5>\u001b[0m in \u001b[0;36mDFT_2D_2\u001b[0;34m(x)\u001b[0m\n\u001b[1;32m     23\u001b[0m    \u001b[0;32mfor\u001b[0m \u001b[0mcol\u001b[0m \u001b[0;32min\u001b[0m \u001b[0mrange\u001b[0m\u001b[0;34m(\u001b[0m\u001b[0mrows\u001b[0m\u001b[0;34m)\u001b[0m\u001b[0;34m:\u001b[0m\u001b[0;34m\u001b[0m\u001b[0;34m\u001b[0m\u001b[0m\n\u001b[1;32m     24\u001b[0m       \u001b[0;32mfor\u001b[0m \u001b[0mrow\u001b[0m \u001b[0;32min\u001b[0m \u001b[0mrange\u001b[0m\u001b[0;34m(\u001b[0m\u001b[0mcols\u001b[0m\u001b[0;34m)\u001b[0m\u001b[0;34m:\u001b[0m\u001b[0;34m\u001b[0m\u001b[0;34m\u001b[0m\u001b[0m\n\u001b[0;32m---> 25\u001b[0;31m         \u001b[0mY\u001b[0m\u001b[0;34m[\u001b[0m\u001b[0mrow\u001b[0m\u001b[0;34m]\u001b[0m\u001b[0;34m[\u001b[0m\u001b[0mcol\u001b[0m\u001b[0;34m]\u001b[0m \u001b[0;34m=\u001b[0m \u001b[0mDFT_1D\u001b[0m\u001b[0;34m(\u001b[0m\u001b[0mx\u001b[0m\u001b[0;34m[\u001b[0m\u001b[0mrow\u001b[0m\u001b[0;34m]\u001b[0m\u001b[0;34m)\u001b[0m\u001b[0;34m\u001b[0m\u001b[0;34m\u001b[0m\u001b[0m\n\u001b[0m\u001b[1;32m     26\u001b[0m    \u001b[0mY\u001b[0m \u001b[0;34m=\u001b[0m \u001b[0mY\u001b[0m\u001b[0;34m.\u001b[0m\u001b[0mtranspose\u001b[0m\u001b[0;34m\u001b[0m\u001b[0;34m\u001b[0m\u001b[0m\n\u001b[1;32m     27\u001b[0m    \u001b[0;32mfor\u001b[0m \u001b[0mcol\u001b[0m \u001b[0;32min\u001b[0m \u001b[0mrange\u001b[0m\u001b[0;34m(\u001b[0m\u001b[0mrows\u001b[0m\u001b[0;34m)\u001b[0m\u001b[0;34m:\u001b[0m\u001b[0;34m\u001b[0m\u001b[0;34m\u001b[0m\u001b[0m\n",
            "\u001b[0;31mValueError\u001b[0m: setting an array element with a sequence."
          ]
        }
      ],
      "source": [
        "import cv2\n",
        "import matplotlib.pyplot as plt\n",
        "\n",
        "im_gray = cv2.imread('/content/cameraman.tiff', cv2.IMREAD_GRAYSCALE)\n",
        "im_gray = DFT_2D_2(im_gray)\n",
        "cv2.imwrite('/content/cameraman.tiff', im_gray)\n",
        "\n",
        "\n",
        "cv2_imshow(im_gray)\n",
        "cv2.waitKey(0)\n",
        "cv2.destroyAllWindows()"
      ]
    }
  ],
  "metadata": {
    "kernelspec": {
      "display_name": "Python 3 (ipykernel)",
      "language": "python",
      "name": "python3"
    },
    "language_info": {
      "codemirror_mode": {
        "name": "ipython",
        "version": 3
      },
      "file_extension": ".py",
      "mimetype": "text/x-python",
      "name": "python",
      "nbconvert_exporter": "python",
      "pygments_lexer": "ipython3",
      "version": "3.9.2"
    },
    "colab": {
      "provenance": []
    }
  },
  "nbformat": 4,
  "nbformat_minor": 0
}